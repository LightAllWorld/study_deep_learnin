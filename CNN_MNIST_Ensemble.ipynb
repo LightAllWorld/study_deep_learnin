{
 "cells": [
  {
   "cell_type": "code",
   "execution_count": 3,
   "metadata": {},
   "outputs": [
    {
     "name": "stdout",
     "output_type": "stream",
     "text": [
      "Extracting MNIST_data/train-images-idx3-ubyte.gz\n",
      "Extracting MNIST_data/train-labels-idx1-ubyte.gz\n",
      "Extracting MNIST_data/t10k-images-idx3-ubyte.gz\n",
      "Extracting MNIST_data/t10k-labels-idx1-ubyte.gz\n"
     ]
    }
   ],
   "source": [
    "import tensorflow as tf\n",
    "import numpy as np\n",
    "from tensorflow.examples.tutorials.mnist import input_data\n",
    "\n",
    "tf.set_random_seed(777)\n",
    "\n",
    "learning_rate = 0.001\n",
    "training_epochs = 10\n",
    "batch_size = 100\n",
    "\n",
    "mnist = input_data.read_data_sets(\"MNIST_data/\", one_hot = True )"
   ]
  },
  {
   "cell_type": "code",
   "execution_count": 40,
   "metadata": {
    "collapsed": true
   },
   "outputs": [],
   "source": [
    "class Model:\n",
    "    def __init__(self, sess, name):\n",
    "        self.sess = sess\n",
    "        self.name = name\n",
    "        self._build_net()\n",
    "        \n",
    "    def _build_net(self):\n",
    "        \n",
    "        with tf.variable_scope(self.name):\n",
    "            # dropout에서 사용\n",
    "            self.training = tf.placeholder(tf.bool) \n",
    "            self.X = tf.placeholder(tf.float32, shape = [None, 784])\n",
    "            X_img = tf.reshape(self.X, [-1, 28, 28, 1])\n",
    "            self.Y = tf.placeholder(tf.float32, shape = [None, 10])\n",
    "            \n",
    "            # Conv_layer1\n",
    "            # input image = NumOfImage * ( 28 * 28 * 1)\n",
    "            conv_layer1 = tf.layers.conv2d(inputs = X_img, filters=32, kernel_size = [3, 3], \n",
    "                                        padding=\"SAME\", activation=tf.nn.relu)\n",
    "            # Pooling Layer #1\n",
    "            pooling_layer1 = tf.layers.max_pooling2d(inputs=conv_layer1, pool_size=[2, 2],\n",
    "                                            padding=\"SAME\", strides=2)\n",
    "            # Drop_Out_Layer\n",
    "            dropout_layer1 = tf.layers.dropout(inputs=pooling_layer1,\n",
    "                                         rate=0.3, training=self.training)\n",
    "            # Conv_Layer2\n",
    "            conv_layer2 = tf.layers.conv2d(inputs=dropout_layer1, filters=64, kernel_size=[3, 3],\n",
    "                                        padding=\"SAME\", activation=tf.nn.relu)\n",
    "            # Pooling_Layer\n",
    "            pooling_layer2 = tf.layers.max_pooling2d(inputs=conv_layer2, pool_size=[2, 2],\n",
    "                                            padding=\"SAME\", strides=2)\n",
    "            # Drop_Out_Layer\n",
    "            dropout_layer2 = tf.layers.dropout(inputs=pooling_layer2,\n",
    "                                        rate=0.3, training=self.training)\n",
    "            # Conv_layer\n",
    "            conv_layer3 = tf.layers.conv2d(inputs=dropout_layer2, filters=128, kernel_size=[3, 3],\n",
    "                                        padding=\"SAME\", activation=tf.nn.relu)\n",
    "            # Pooling_Layer\n",
    "            pooling_layer3 = tf.layers.max_pooling2d(inputs=conv_layer3, pool_size=[2, 2],\n",
    "                                        padding=\"SAME\", strides=2)\n",
    "            # Drop_Out_Layer\n",
    "            dropout_layer3 = tf.layers.dropout(inputs=pooling_layer3,\n",
    "                                        rate=0.3, training=self.training)\n",
    "            # FC\n",
    "            flat = tf.reshape(dropout_layer3, [-1, 128 * 4 * 4])\n",
    "            dense_layer = tf.layers.dense(inputs=flat,\n",
    "                                        units=625, activation=tf.nn.relu)\n",
    "            dropout_layer4 = tf.layers.dropout(inputs=dense_layer,\n",
    "                                        rate=0.5, training=self.training)\n",
    "\n",
    "            self.logits = tf.layers.dense(inputs=dropout_layer4, units=10)\n",
    "        \n",
    "        # cost/loss & optimizer\n",
    "        self.cost = tf.reduce_mean(tf.nn.softmax_cross_entropy_with_logits(\n",
    "            logits=self.logits, labels=self.Y))\n",
    "        self.optimizer = tf.train.AdamOptimizer(\n",
    "            learning_rate=learning_rate).minimize(self.cost)\n",
    "\n",
    "        correct_prediction = tf.equal(\n",
    "            tf.argmax(self.logits, 1), tf.argmax(self.Y, 1))\n",
    "        self.accuracy = tf.reduce_mean(tf.cast(correct_prediction, tf.float32))\n",
    "        \n",
    "    def predict(self, x_test, keep_prop = 1.0):\n",
    "        return self.sess.run(self.logits,\n",
    "            feed_dict={self.X :x_test, self.keep_prob:keep_prop})\n",
    "\n",
    "    def get_accuracy(self, x_test, y_test, keep_prop = 1.0 ):\n",
    "        return self.sess.run(self.accuracy,\n",
    "            feed_dict={self.X : x_test, self.Y : y_test, self.keep_prob : keep_prop})\n",
    "\n",
    "    def train(self, x_data, y_data, keep_prop = 0.7):\n",
    "        return self.sess.run([self.cost, self.optimizer], feed_dict ={\n",
    "            self.X : x_data, self.Y : y_data, self.keep_prob:keep_prop})"
   ]
  },
  {
   "cell_type": "code",
   "execution_count": 42,
   "metadata": {},
   "outputs": [
    {
     "ename": "ValueError",
     "evalue": "Fetch argument <tf.Operation 'init' type=NoOp> cannot be interpreted as a Tensor. (Operation name: \"init\"\nop: \"NoOp\"\ninput: \"^model1/conv2d/kernel/Assign\"\ninput: \"^model1/conv2d/bias/Assign\"\ninput: \"^model1/conv2d_1/kernel/Assign\"\ninput: \"^model1/conv2d_1/bias/Assign\"\ninput: \"^model1/conv2d_2/kernel/Assign\"\ninput: \"^model1/conv2d_2/bias/Assign\"\ninput: \"^model1/dense/kernel/Assign\"\ninput: \"^model1/dense/bias/Assign\"\ninput: \"^model1/dense_1/kernel/Assign\"\ninput: \"^model1/dense_1/bias/Assign\"\ninput: \"^beta1_power/Assign\"\ninput: \"^beta2_power/Assign\"\ninput: \"^model1/conv2d/kernel/Adam/Assign\"\ninput: \"^model1/conv2d/kernel/Adam_1/Assign\"\ninput: \"^model1/conv2d/bias/Adam/Assign\"\ninput: \"^model1/conv2d/bias/Adam_1/Assign\"\ninput: \"^model1/conv2d_1/kernel/Adam/Assign\"\ninput: \"^model1/conv2d_1/kernel/Adam_1/Assign\"\ninput: \"^model1/conv2d_1/bias/Adam/Assign\"\ninput: \"^model1/conv2d_1/bias/Adam_1/Assign\"\ninput: \"^model1/conv2d_2/kernel/Adam/Assign\"\ninput: \"^model1/conv2d_2/kernel/Adam_1/Assign\"\ninput: \"^model1/conv2d_2/bias/Adam/Assign\"\ninput: \"^model1/conv2d_2/bias/Adam_1/Assign\"\ninput: \"^model1/dense/kernel/Adam/Assign\"\ninput: \"^model1/dense/kernel/Adam_1/Assign\"\ninput: \"^model1/dense/bias/Adam/Assign\"\ninput: \"^model1/dense/bias/Adam_1/Assign\"\ninput: \"^model1/dense_1/kernel/Adam/Assign\"\ninput: \"^model1/dense_1/kernel/Adam_1/Assign\"\ninput: \"^model1/dense_1/bias/Adam/Assign\"\ninput: \"^model1/dense_1/bias/Adam_1/Assign\"\n is not an element of this graph.)",
     "output_type": "error",
     "traceback": [
      "\u001b[0;31m---------------------------------------------------------------------------\u001b[0m",
      "\u001b[0;31mValueError\u001b[0m                                Traceback (most recent call last)",
      "\u001b[0;32m~/anaconda/envs/tensorflow/lib/python3.6/site-packages/tensorflow/python/client/session.py\u001b[0m in \u001b[0;36m__init__\u001b[0;34m(self, fetches, contraction_fn)\u001b[0m\n\u001b[1;32m    269\u001b[0m         self._unique_fetches.append(ops.get_default_graph().as_graph_element(\n\u001b[0;32m--> 270\u001b[0;31m             fetch, allow_tensor=True, allow_operation=True))\n\u001b[0m\u001b[1;32m    271\u001b[0m       \u001b[0;32mexcept\u001b[0m \u001b[0mTypeError\u001b[0m \u001b[0;32mas\u001b[0m \u001b[0me\u001b[0m\u001b[0;34m:\u001b[0m\u001b[0;34m\u001b[0m\u001b[0m\n",
      "\u001b[0;32m~/anaconda/envs/tensorflow/lib/python3.6/site-packages/tensorflow/python/framework/ops.py\u001b[0m in \u001b[0;36mas_graph_element\u001b[0;34m(self, obj, allow_tensor, allow_operation)\u001b[0m\n\u001b[1;32m   2707\u001b[0m     \u001b[0;32mwith\u001b[0m \u001b[0mself\u001b[0m\u001b[0;34m.\u001b[0m\u001b[0m_lock\u001b[0m\u001b[0;34m:\u001b[0m\u001b[0;34m\u001b[0m\u001b[0m\n\u001b[0;32m-> 2708\u001b[0;31m       \u001b[0;32mreturn\u001b[0m \u001b[0mself\u001b[0m\u001b[0;34m.\u001b[0m\u001b[0m_as_graph_element_locked\u001b[0m\u001b[0;34m(\u001b[0m\u001b[0mobj\u001b[0m\u001b[0;34m,\u001b[0m \u001b[0mallow_tensor\u001b[0m\u001b[0;34m,\u001b[0m \u001b[0mallow_operation\u001b[0m\u001b[0;34m)\u001b[0m\u001b[0;34m\u001b[0m\u001b[0m\n\u001b[0m\u001b[1;32m   2709\u001b[0m \u001b[0;34m\u001b[0m\u001b[0m\n",
      "\u001b[0;32m~/anaconda/envs/tensorflow/lib/python3.6/site-packages/tensorflow/python/framework/ops.py\u001b[0m in \u001b[0;36m_as_graph_element_locked\u001b[0;34m(self, obj, allow_tensor, allow_operation)\u001b[0m\n\u001b[1;32m   2791\u001b[0m       \u001b[0;32mif\u001b[0m \u001b[0mobj\u001b[0m\u001b[0;34m.\u001b[0m\u001b[0mgraph\u001b[0m \u001b[0;32mis\u001b[0m \u001b[0;32mnot\u001b[0m \u001b[0mself\u001b[0m\u001b[0;34m:\u001b[0m\u001b[0;34m\u001b[0m\u001b[0m\n\u001b[0;32m-> 2792\u001b[0;31m         \u001b[0;32mraise\u001b[0m \u001b[0mValueError\u001b[0m\u001b[0;34m(\u001b[0m\u001b[0;34m\"Operation %s is not an element of this graph.\"\u001b[0m \u001b[0;34m%\u001b[0m \u001b[0mobj\u001b[0m\u001b[0;34m)\u001b[0m\u001b[0;34m\u001b[0m\u001b[0m\n\u001b[0m\u001b[1;32m   2793\u001b[0m       \u001b[0;32mreturn\u001b[0m \u001b[0mobj\u001b[0m\u001b[0;34m\u001b[0m\u001b[0m\n",
      "\u001b[0;31mValueError\u001b[0m: Operation name: \"init\"\nop: \"NoOp\"\ninput: \"^model1/conv2d/kernel/Assign\"\ninput: \"^model1/conv2d/bias/Assign\"\ninput: \"^model1/conv2d_1/kernel/Assign\"\ninput: \"^model1/conv2d_1/bias/Assign\"\ninput: \"^model1/conv2d_2/kernel/Assign\"\ninput: \"^model1/conv2d_2/bias/Assign\"\ninput: \"^model1/dense/kernel/Assign\"\ninput: \"^model1/dense/bias/Assign\"\ninput: \"^model1/dense_1/kernel/Assign\"\ninput: \"^model1/dense_1/bias/Assign\"\ninput: \"^beta1_power/Assign\"\ninput: \"^beta2_power/Assign\"\ninput: \"^model1/conv2d/kernel/Adam/Assign\"\ninput: \"^model1/conv2d/kernel/Adam_1/Assign\"\ninput: \"^model1/conv2d/bias/Adam/Assign\"\ninput: \"^model1/conv2d/bias/Adam_1/Assign\"\ninput: \"^model1/conv2d_1/kernel/Adam/Assign\"\ninput: \"^model1/conv2d_1/kernel/Adam_1/Assign\"\ninput: \"^model1/conv2d_1/bias/Adam/Assign\"\ninput: \"^model1/conv2d_1/bias/Adam_1/Assign\"\ninput: \"^model1/conv2d_2/kernel/Adam/Assign\"\ninput: \"^model1/conv2d_2/kernel/Adam_1/Assign\"\ninput: \"^model1/conv2d_2/bias/Adam/Assign\"\ninput: \"^model1/conv2d_2/bias/Adam_1/Assign\"\ninput: \"^model1/dense/kernel/Adam/Assign\"\ninput: \"^model1/dense/kernel/Adam_1/Assign\"\ninput: \"^model1/dense/bias/Adam/Assign\"\ninput: \"^model1/dense/bias/Adam_1/Assign\"\ninput: \"^model1/dense_1/kernel/Adam/Assign\"\ninput: \"^model1/dense_1/kernel/Adam_1/Assign\"\ninput: \"^model1/dense_1/bias/Adam/Assign\"\ninput: \"^model1/dense_1/bias/Adam_1/Assign\"\n is not an element of this graph.",
      "\nDuring handling of the above exception, another exception occurred:\n",
      "\u001b[0;31mValueError\u001b[0m                                Traceback (most recent call last)",
      "\u001b[0;32m<ipython-input-42-db6bfa513896>\u001b[0m in \u001b[0;36m<module>\u001b[0;34m()\u001b[0m\n\u001b[1;32m      6\u001b[0m     \u001b[0mmodels\u001b[0m\u001b[0;34m.\u001b[0m\u001b[0mappend\u001b[0m\u001b[0;34m(\u001b[0m\u001b[0mModel\u001b[0m\u001b[0;34m(\u001b[0m\u001b[0msess\u001b[0m\u001b[0;34m,\u001b[0m \u001b[0;34m\"model\"\u001b[0m \u001b[0;34m+\u001b[0m \u001b[0mstr\u001b[0m\u001b[0;34m(\u001b[0m\u001b[0mm\u001b[0m\u001b[0;34m)\u001b[0m\u001b[0;34m)\u001b[0m\u001b[0;34m)\u001b[0m\u001b[0;34m\u001b[0m\u001b[0m\n\u001b[1;32m      7\u001b[0m \u001b[0;34m\u001b[0m\u001b[0m\n\u001b[0;32m----> 8\u001b[0;31m \u001b[0msess\u001b[0m\u001b[0;34m.\u001b[0m\u001b[0mrun\u001b[0m\u001b[0;34m(\u001b[0m\u001b[0mtf\u001b[0m\u001b[0;34m.\u001b[0m\u001b[0mglobal_variables_initializer\u001b[0m\u001b[0;34m(\u001b[0m\u001b[0;34m)\u001b[0m\u001b[0;34m)\u001b[0m\u001b[0;34m\u001b[0m\u001b[0m\n\u001b[0m\u001b[1;32m      9\u001b[0m \u001b[0mtf\u001b[0m\u001b[0;34m.\u001b[0m\u001b[0mreset_default_graph\u001b[0m\u001b[0;34m(\u001b[0m\u001b[0;34m)\u001b[0m\u001b[0;34m\u001b[0m\u001b[0m\n\u001b[1;32m     10\u001b[0m \u001b[0;31m# train\u001b[0m\u001b[0;34m\u001b[0m\u001b[0;34m\u001b[0m\u001b[0m\n",
      "\u001b[0;32m~/anaconda/envs/tensorflow/lib/python3.6/site-packages/tensorflow/python/client/session.py\u001b[0m in \u001b[0;36mrun\u001b[0;34m(self, fetches, feed_dict, options, run_metadata)\u001b[0m\n\u001b[1;32m    893\u001b[0m     \u001b[0;32mtry\u001b[0m\u001b[0;34m:\u001b[0m\u001b[0;34m\u001b[0m\u001b[0m\n\u001b[1;32m    894\u001b[0m       result = self._run(None, fetches, feed_dict, options_ptr,\n\u001b[0;32m--> 895\u001b[0;31m                          run_metadata_ptr)\n\u001b[0m\u001b[1;32m    896\u001b[0m       \u001b[0;32mif\u001b[0m \u001b[0mrun_metadata\u001b[0m\u001b[0;34m:\u001b[0m\u001b[0;34m\u001b[0m\u001b[0m\n\u001b[1;32m    897\u001b[0m         \u001b[0mproto_data\u001b[0m \u001b[0;34m=\u001b[0m \u001b[0mtf_session\u001b[0m\u001b[0;34m.\u001b[0m\u001b[0mTF_GetBuffer\u001b[0m\u001b[0;34m(\u001b[0m\u001b[0mrun_metadata_ptr\u001b[0m\u001b[0;34m)\u001b[0m\u001b[0;34m\u001b[0m\u001b[0m\n",
      "\u001b[0;32m~/anaconda/envs/tensorflow/lib/python3.6/site-packages/tensorflow/python/client/session.py\u001b[0m in \u001b[0;36m_run\u001b[0;34m(self, handle, fetches, feed_dict, options, run_metadata)\u001b[0m\n\u001b[1;32m   1107\u001b[0m     \u001b[0;31m# Create a fetch handler to take care of the structure of fetches.\u001b[0m\u001b[0;34m\u001b[0m\u001b[0;34m\u001b[0m\u001b[0m\n\u001b[1;32m   1108\u001b[0m     fetch_handler = _FetchHandler(\n\u001b[0;32m-> 1109\u001b[0;31m         self._graph, fetches, feed_dict_tensor, feed_handles=feed_handles)\n\u001b[0m\u001b[1;32m   1110\u001b[0m \u001b[0;34m\u001b[0m\u001b[0m\n\u001b[1;32m   1111\u001b[0m     \u001b[0;31m# Run request and get response.\u001b[0m\u001b[0;34m\u001b[0m\u001b[0;34m\u001b[0m\u001b[0m\n",
      "\u001b[0;32m~/anaconda/envs/tensorflow/lib/python3.6/site-packages/tensorflow/python/client/session.py\u001b[0m in \u001b[0;36m__init__\u001b[0;34m(self, graph, fetches, feeds, feed_handles)\u001b[0m\n\u001b[1;32m    411\u001b[0m     \"\"\"\n\u001b[1;32m    412\u001b[0m     \u001b[0;32mwith\u001b[0m \u001b[0mgraph\u001b[0m\u001b[0;34m.\u001b[0m\u001b[0mas_default\u001b[0m\u001b[0;34m(\u001b[0m\u001b[0;34m)\u001b[0m\u001b[0;34m:\u001b[0m\u001b[0;34m\u001b[0m\u001b[0m\n\u001b[0;32m--> 413\u001b[0;31m       \u001b[0mself\u001b[0m\u001b[0;34m.\u001b[0m\u001b[0m_fetch_mapper\u001b[0m \u001b[0;34m=\u001b[0m \u001b[0m_FetchMapper\u001b[0m\u001b[0;34m.\u001b[0m\u001b[0mfor_fetch\u001b[0m\u001b[0;34m(\u001b[0m\u001b[0mfetches\u001b[0m\u001b[0;34m)\u001b[0m\u001b[0;34m\u001b[0m\u001b[0m\n\u001b[0m\u001b[1;32m    414\u001b[0m     \u001b[0mself\u001b[0m\u001b[0;34m.\u001b[0m\u001b[0m_fetches\u001b[0m \u001b[0;34m=\u001b[0m \u001b[0;34m[\u001b[0m\u001b[0;34m]\u001b[0m\u001b[0;34m\u001b[0m\u001b[0m\n\u001b[1;32m    415\u001b[0m     \u001b[0mself\u001b[0m\u001b[0;34m.\u001b[0m\u001b[0m_targets\u001b[0m \u001b[0;34m=\u001b[0m \u001b[0;34m[\u001b[0m\u001b[0;34m]\u001b[0m\u001b[0;34m\u001b[0m\u001b[0m\n",
      "\u001b[0;32m~/anaconda/envs/tensorflow/lib/python3.6/site-packages/tensorflow/python/client/session.py\u001b[0m in \u001b[0;36mfor_fetch\u001b[0;34m(fetch)\u001b[0m\n\u001b[1;32m    239\u001b[0m         \u001b[0;32mif\u001b[0m \u001b[0misinstance\u001b[0m\u001b[0;34m(\u001b[0m\u001b[0mfetch\u001b[0m\u001b[0;34m,\u001b[0m \u001b[0mtensor_type\u001b[0m\u001b[0;34m)\u001b[0m\u001b[0;34m:\u001b[0m\u001b[0;34m\u001b[0m\u001b[0m\n\u001b[1;32m    240\u001b[0m           \u001b[0mfetches\u001b[0m\u001b[0;34m,\u001b[0m \u001b[0mcontraction_fn\u001b[0m \u001b[0;34m=\u001b[0m \u001b[0mfetch_fn\u001b[0m\u001b[0;34m(\u001b[0m\u001b[0mfetch\u001b[0m\u001b[0;34m)\u001b[0m\u001b[0;34m\u001b[0m\u001b[0m\n\u001b[0;32m--> 241\u001b[0;31m           \u001b[0;32mreturn\u001b[0m \u001b[0m_ElementFetchMapper\u001b[0m\u001b[0;34m(\u001b[0m\u001b[0mfetches\u001b[0m\u001b[0;34m,\u001b[0m \u001b[0mcontraction_fn\u001b[0m\u001b[0;34m)\u001b[0m\u001b[0;34m\u001b[0m\u001b[0m\n\u001b[0m\u001b[1;32m    242\u001b[0m     \u001b[0;31m# Did not find anything.\u001b[0m\u001b[0;34m\u001b[0m\u001b[0;34m\u001b[0m\u001b[0m\n\u001b[1;32m    243\u001b[0m     raise TypeError('Fetch argument %r has invalid type %r' %\n",
      "\u001b[0;32m~/anaconda/envs/tensorflow/lib/python3.6/site-packages/tensorflow/python/client/session.py\u001b[0m in \u001b[0;36m__init__\u001b[0;34m(self, fetches, contraction_fn)\u001b[0m\n\u001b[1;32m    275\u001b[0m       \u001b[0;32mexcept\u001b[0m \u001b[0mValueError\u001b[0m \u001b[0;32mas\u001b[0m \u001b[0me\u001b[0m\u001b[0;34m:\u001b[0m\u001b[0;34m\u001b[0m\u001b[0m\n\u001b[1;32m    276\u001b[0m         raise ValueError('Fetch argument %r cannot be interpreted as a '\n\u001b[0;32m--> 277\u001b[0;31m                          'Tensor. (%s)' % (fetch, str(e)))\n\u001b[0m\u001b[1;32m    278\u001b[0m       \u001b[0;32mexcept\u001b[0m \u001b[0mKeyError\u001b[0m \u001b[0;32mas\u001b[0m \u001b[0me\u001b[0m\u001b[0;34m:\u001b[0m\u001b[0;34m\u001b[0m\u001b[0m\n\u001b[1;32m    279\u001b[0m         raise ValueError('Fetch argument %r cannot be interpreted as a '\n",
      "\u001b[0;31mValueError\u001b[0m: Fetch argument <tf.Operation 'init' type=NoOp> cannot be interpreted as a Tensor. (Operation name: \"init\"\nop: \"NoOp\"\ninput: \"^model1/conv2d/kernel/Assign\"\ninput: \"^model1/conv2d/bias/Assign\"\ninput: \"^model1/conv2d_1/kernel/Assign\"\ninput: \"^model1/conv2d_1/bias/Assign\"\ninput: \"^model1/conv2d_2/kernel/Assign\"\ninput: \"^model1/conv2d_2/bias/Assign\"\ninput: \"^model1/dense/kernel/Assign\"\ninput: \"^model1/dense/bias/Assign\"\ninput: \"^model1/dense_1/kernel/Assign\"\ninput: \"^model1/dense_1/bias/Assign\"\ninput: \"^beta1_power/Assign\"\ninput: \"^beta2_power/Assign\"\ninput: \"^model1/conv2d/kernel/Adam/Assign\"\ninput: \"^model1/conv2d/kernel/Adam_1/Assign\"\ninput: \"^model1/conv2d/bias/Adam/Assign\"\ninput: \"^model1/conv2d/bias/Adam_1/Assign\"\ninput: \"^model1/conv2d_1/kernel/Adam/Assign\"\ninput: \"^model1/conv2d_1/kernel/Adam_1/Assign\"\ninput: \"^model1/conv2d_1/bias/Adam/Assign\"\ninput: \"^model1/conv2d_1/bias/Adam_1/Assign\"\ninput: \"^model1/conv2d_2/kernel/Adam/Assign\"\ninput: \"^model1/conv2d_2/kernel/Adam_1/Assign\"\ninput: \"^model1/conv2d_2/bias/Adam/Assign\"\ninput: \"^model1/conv2d_2/bias/Adam_1/Assign\"\ninput: \"^model1/dense/kernel/Adam/Assign\"\ninput: \"^model1/dense/kernel/Adam_1/Assign\"\ninput: \"^model1/dense/bias/Adam/Assign\"\ninput: \"^model1/dense/bias/Adam_1/Assign\"\ninput: \"^model1/dense_1/kernel/Adam/Assign\"\ninput: \"^model1/dense_1/kernel/Adam_1/Assign\"\ninput: \"^model1/dense_1/bias/Adam/Assign\"\ninput: \"^model1/dense_1/bias/Adam_1/Assign\"\n is not an element of this graph.)"
     ]
    }
   ],
   "source": [
    "sess = tf.Session()\n",
    "\n",
    "models = []\n",
    "num_models = 2\n",
    "for m in range(num_models):\n",
    "    models.append(Model(sess, \"model\" + str(m)))\n",
    "\n",
    "sess.run(tf.global_variables_initializer())\n",
    "\n",
    "# train\n",
    "for epoch in range(training_epochs):\n",
    "    avg_cost_list = np.zeros(len(models))\n",
    "    total_batch = int(mnist.train.num_examples / batch_size)\n",
    "    for i in range(total_batch):\n",
    "        batch_xs, batch_ys = mnist.train.next_batch(batch_size)\n",
    "\n",
    "        # train each model\n",
    "        for m_idx, m in enumerate(models):\n",
    "            c, _ = m.train(batch_xs, batch_ys)\n",
    "            avg_cost_list[m_idx] += c / total_batch\n",
    "\n",
    "    print('Epoch:', '%04d' % (epoch + 1), 'cost =', avg_cost_list)\n",
    "\n",
    "# Test model and check accuracy\n",
    "test_size = len(mnist.test.labels)\n",
    "predictions = np.zeros([test_size, 10])\n",
    "for m_idx, m in enumerate(models):\n",
    "    print(m_idx, 'Accuracy:', m.get_accuracy(\n",
    "        mnist.test.images, mnist.test.labels))\n",
    "    p = m.predict(mnist.test.images)\n",
    "    predictions += p\n",
    "\n",
    "ensemble_correct_prediction = tf.equal(\n",
    "    tf.argmax(predictions, 1), tf.argmax(mnist.test.labels, 1))\n",
    "ensemble_accuracy = tf.reduce_mean(\n",
    "    tf.cast(ensemble_correct_prediction, tf.float32))\n",
    "print('Ensemble accuracy:', sess.run(ensemble_accuracy))"
   ]
  },
  {
   "cell_type": "code",
   "execution_count": null,
   "metadata": {},
   "outputs": [],
   "source": []
  },
  {
   "cell_type": "code",
   "execution_count": null,
   "metadata": {
    "collapsed": true
   },
   "outputs": [],
   "source": []
  }
 ],
 "metadata": {
  "kernelspec": {
   "display_name": "Python 3",
   "language": "python",
   "name": "python3"
  },
  "language_info": {
   "codemirror_mode": {
    "name": "ipython",
    "version": 3
   },
   "file_extension": ".py",
   "mimetype": "text/x-python",
   "name": "python",
   "nbconvert_exporter": "python",
   "pygments_lexer": "ipython3",
   "version": "3.6.2"
  }
 },
 "nbformat": 4,
 "nbformat_minor": 2
}
