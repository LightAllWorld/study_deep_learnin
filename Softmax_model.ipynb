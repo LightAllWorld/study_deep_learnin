{
 "cells": [
  {
   "cell_type": "code",
   "execution_count": 2,
   "metadata": {},
   "outputs": [
    {
     "name": "stdout",
     "output_type": "stream",
     "text": [
      "0 1.64785\n",
      "20 1.06581\n",
      "40 0.760683\n",
      "60 0.687888\n",
      "80 0.672495\n",
      "100 0.664781\n",
      "120 0.658643\n",
      "140 0.653268\n",
      "160 0.648441\n",
      "180 0.644043\n",
      "200 0.639994\n",
      "[[  2.06870052e-15   8.27471077e-01   1.72528952e-01]\n",
      " [  1.73699320e-07   1.38908252e-01   8.61091614e-01]\n",
      " [  7.29283690e-03   6.97904527e-01   2.94802576e-01]] [1 2 1]\n"
     ]
    }
   ],
   "source": [
    "import numpy as np\n",
    "import tensorflow as tf\n",
    "\n",
    "xy = np.loadtxt(\"softmax_dataset.csv\",delimiter = \" \", dtype = np.float32)\n",
    "x_data = xy[:, 0:4]\n",
    "y_data = xy[:, 4:]\n",
    "nb_classes = 3\n",
    "X = tf.placeholder(tf.float32, shape = [None, 4])\n",
    "Y = tf.placeholder(tf.float32, shape = [None, 3])\n",
    "\n",
    "W = tf.Variable(tf.random_normal([4, nb_classes]), name = \"weight\")\n",
    "b = tf.Variable(tf.random_normal([nb_classes]), name = \"bias\")\n",
    "\n",
    "hypothesis = tf.nn.softmax(tf.matmul(X, W) + b )\n",
    "\n",
    "cost = tf.reduce_mean(-tf.reduce_sum(Y * tf.log(hypothesis), axis=1))\n",
    "optimizer = tf.train.GradientDescentOptimizer(learning_rate = 0.03).minimize(cost)\n",
    "\n",
    "init = tf.global_variables_initializer()\n",
    "sess = tf.Session()\n",
    "sess.run(init)\n",
    "\n",
    "for step in range(200+1):\n",
    "    sess.run(optimizer, feed_dict = {X :x_data, Y : y_data})\n",
    "    if step % 20 == 0 :\n",
    "        print(step, sess.run(cost, feed_dict={X: x_data, Y: y_data}))\n",
    "        \n",
    "test = sess.run(hypothesis, feed_dict={X : [[1, 11, 7, 9], \n",
    "                                            [1, 3 , 4, 3],\n",
    "                                            [1, 1, 0 , 1]]})\n",
    "\n",
    "print(test, sess.run(tf.argmax(test, 1)))"
   ]
  },
  {
   "cell_type": "code",
   "execution_count": null,
   "metadata": {
    "collapsed": true
   },
   "outputs": [],
   "source": []
  },
  {
   "cell_type": "code",
   "execution_count": null,
   "metadata": {
    "collapsed": true
   },
   "outputs": [],
   "source": []
  }
 ],
 "metadata": {
  "kernelspec": {
   "display_name": "Python 3",
   "language": "python",
   "name": "python3"
  },
  "language_info": {
   "codemirror_mode": {
    "name": "ipython",
    "version": 3
   },
   "file_extension": ".py",
   "mimetype": "text/x-python",
   "name": "python",
   "nbconvert_exporter": "python",
   "pygments_lexer": "ipython3",
   "version": "3.6.2"
  }
 },
 "nbformat": 4,
 "nbformat_minor": 2
}
