{
 "cells": [
  {
   "cell_type": "code",
   "execution_count": 16,
   "metadata": {},
   "outputs": [
    {
     "name": "stdout",
     "output_type": "stream",
     "text": [
      "0 5.37548\n",
      "10 1.14267\n",
      "20 0.372364\n",
      "30 0.273847\n",
      "40 0.22727\n",
      "50 0.198525\n",
      "60 0.178835\n",
      "70 0.164479\n",
      "80 0.153538\n",
      "90 0.144904\n",
      "100 0.137892\n",
      "110 0.132058\n",
      "120 0.127104\n",
      "130 0.122822\n",
      "140 0.119064\n",
      "150 0.115723\n",
      "160 0.112717\n",
      "170 0.109988\n",
      "180 0.107489\n",
      "190 0.105182\n",
      "200 0.10304\n",
      "\n",
      "Hypothesis:  [[  2.13267252e-01]\n",
      " [  3.48806940e-02]\n",
      " [  4.79538320e-03]\n",
      " [  8.56422776e-05]\n",
      " [  9.83041763e-01]\n",
      " [  6.68988466e-01]\n",
      " [  9.95641708e-01]\n",
      " [  8.87853801e-01]] \n",
      "Correct (Y):  0.102834 \n",
      "Accuracy:  1.0\n"
     ]
    }
   ],
   "source": [
    "import numpy as np\n",
    "import tensorflow as tf\n",
    "\n",
    "xy = np.loadtxt(\"dataset.csv\", delimiter = \" \", dtype = np.float32)\n",
    "x_data = xy[:,0:-1]\n",
    "y_data = xy[:, [-1]]\n",
    "\n",
    "X = tf.placeholder(tf.float32, shape = [None, 2])\n",
    "Y = tf.placeholder(tf.float32, shape = [None, 1])\n",
    "\n",
    "W = tf.Variable(tf.random_normal([2, 1]), name = \"weight\")\n",
    "b = tf.Variable(tf.random_normal([1]), name = \"bias\")\n",
    "\n",
    "hypothesis = tf.sigmoid(tf.matmul(X, W) + b)\n",
    "cost = -tf.reduce_mean(Y * tf.log(hypothesis) + (1 - Y) * tf.log(1 - hypothesis))\n",
    "train = tf.train.GradientDescentOptimizer(learning_rate = 0.05).minimize(cost)\n",
    "\n",
    "predicated = tf.cast( hypothesis > 0.5, dtype = tf.float32)\n",
    "accuracy = tf.reduce_mean(tf.cast(tf.equal(predicated, Y), dtype = tf.float32))\n",
    "\n",
    "init = tf.global_variables_initializer()\n",
    "sess = tf.Session()\n",
    "\n",
    "sess.run(init)\n",
    "\n",
    "for step in range(200+1):\n",
    "    cost_val, _ = sess.run([cost, train], feed_dict = {X : x_data, Y : y_data})\n",
    "    if step %10 == 0:\n",
    "        print(step, cost_val)\n",
    "        \n",
    "h, c, a = sess.run([hypothesis, cost, accuracy],\n",
    "                  feed_dict ={X: x_data, Y : y_data})\n",
    "print(\"\\nHypothesis: \", h, \"\\nCorrect (Y): \", c, \"\\nAccuracy: \", a)\n"
   ]
  },
  {
   "cell_type": "code",
   "execution_count": null,
   "metadata": {
    "collapsed": true
   },
   "outputs": [],
   "source": []
  },
  {
   "cell_type": "code",
   "execution_count": null,
   "metadata": {
    "collapsed": true
   },
   "outputs": [],
   "source": [
    "    "
   ]
  }
 ],
 "metadata": {
  "kernelspec": {
   "display_name": "Python 3",
   "language": "python",
   "name": "python3"
  },
  "language_info": {
   "codemirror_mode": {
    "name": "ipython",
    "version": 3
   },
   "file_extension": ".py",
   "mimetype": "text/x-python",
   "name": "python",
   "nbconvert_exporter": "python",
   "pygments_lexer": "ipython3",
   "version": "3.6.2"
  }
 },
 "nbformat": 4,
 "nbformat_minor": 2
}
