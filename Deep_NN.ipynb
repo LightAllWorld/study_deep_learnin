{
 "cells": [
  {
   "cell_type": "code",
   "execution_count": 20,
   "metadata": {},
   "outputs": [
    {
     "name": "stdout",
     "output_type": "stream",
     "text": [
      "0 1.21204\n",
      "200 0.0377918\n",
      "400 0.0117478\n",
      "600 0.00671923\n",
      "800 0.00454685\n",
      "1000 0.00337044\n",
      "1200 0.0026578\n",
      "1400 0.0021655\n",
      "1600 0.00182\n",
      "1800 0.0015644\n",
      "2000 0.00136733\n",
      "\n",
      "Hypothesis:  [[ 0.00241452]\n",
      " [ 0.99979573]\n",
      " [ 0.99956995]\n",
      " [ 0.00241452]] \n",
      "Correct:  [[ 0.]\n",
      " [ 1.]\n",
      " [ 1.]\n",
      " [ 0.]] \n",
      "Accuracy:  1.0\n"
     ]
    }
   ],
   "source": [
    "import numpy as np\n",
    "import tensorflow as tf\n",
    "\n",
    "XY = np.loadtxt(\"XOR.csv\", delimiter = \" \", dtype = np.float32)\n",
    "x_data = XY[:, :-1]\n",
    "y_data = XY[:,[-1]]\n",
    "\n",
    "X = tf.placeholder(dtype = tf.float32, shape = [None, 2])\n",
    "Y = tf.placeholder(dtype = tf.float32, shape = [None, 1])\n",
    "\n",
    "W1 = tf.Variable(tf.random_normal([2, 8]), name = \"weight1\")\n",
    "W2 = tf.Variable(tf.random_normal([8, 5]), name = \"weight2\")\n",
    "W3 = tf.Variable(tf.random_normal([5, 3]), name = \"weight3\")\n",
    "W4 = tf.Variable(tf.random_normal([3, 1]), name = \"weight4\")\n",
    "\n",
    "b1 = tf.Variable(tf.random_normal([8]), name = \"bias1\")\n",
    "b2 = tf.Variable(tf.random_normal([5]), name = \"bias2\")\n",
    "b3 = tf.Variable(tf.random_normal([3]), name = \"bias3\")\n",
    "b4 = tf.Variable(tf.random_normal([1]), name = \"bias4\")\n",
    "\n",
    "layer1 = tf.nn.relu(tf.matmul(X, W1) + b1)\n",
    "layer2 = tf.nn.relu(tf.matmul(layer1, W2) + b2)\n",
    "layer3 = tf.nn.relu(tf.matmul(layer2, W3) + b3)\n",
    "hypothesis = tf.sigmoid(tf.matmul(layer3, W4) + b4)\n",
    "\n",
    "#cost = tf.reduce_mean(tf.nn.softmax_cross_entropy_with_logits(logits = hypothesis, labels =Y))\n",
    "cost = -tf.reduce_mean(Y*tf.log(hypothesis) + (1-Y)*tf.log(1-hypothesis))\n",
    "#train = tf.train.AdamOptimizer(learning_rate = 0.05).minimize(cost)\n",
    "train = tf.train.GradientDescentOptimizer(learning_rate = 0.05).minimize(cost)\n",
    "\n",
    "predicted = tf.cast(hypothesis > 0.5, dtype = tf.float32)\n",
    "accuracy = tf.reduce_mean(tf.cast(tf.equal(predicted, Y), dtype = tf.float32))\n",
    "\n",
    "with tf.Session() as sess:\n",
    "    sess.run(tf.global_variables_initializer())\n",
    "    \n",
    "    for step in range(2000+1):\n",
    "        sess.run(train, feed_dict = {X:x_data, Y:y_data})\n",
    "        if step % 200 == 0:\n",
    "            print(step, sess.run(cost, feed_dict = {X : x_data, Y : y_data}))\n",
    "                     \n",
    "    h, c, a = sess.run([hypothesis, predicted, accuracy], feed_dict={X:x_data, Y:y_data})\n",
    "    print(\"\\nHypothesis: \", h, \"\\nCorrect: \", c, \"\\nAccuracy: \", a)\n"
   ]
  },
  {
   "cell_type": "code",
   "execution_count": null,
   "metadata": {
    "collapsed": true
   },
   "outputs": [],
   "source": []
  }
 ],
 "metadata": {
  "kernelspec": {
   "display_name": "Python 3",
   "language": "python",
   "name": "python3"
  },
  "language_info": {
   "codemirror_mode": {
    "name": "ipython",
    "version": 3
   },
   "file_extension": ".py",
   "mimetype": "text/x-python",
   "name": "python",
   "nbconvert_exporter": "python",
   "pygments_lexer": "ipython3",
   "version": "3.6.2"
  }
 },
 "nbformat": 4,
 "nbformat_minor": 2
}
