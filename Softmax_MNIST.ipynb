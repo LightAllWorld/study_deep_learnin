{
 "cells": [
  {
   "cell_type": "code",
   "execution_count": 2,
   "metadata": {},
   "outputs": [
    {
     "name": "stdout",
     "output_type": "stream",
     "text": [
      "Successfully downloaded train-images-idx3-ubyte.gz 9912422 bytes.\n",
      "Extracting MNIST_data/train-images-idx3-ubyte.gz\n",
      "Successfully downloaded train-labels-idx1-ubyte.gz 28881 bytes.\n",
      "Extracting MNIST_data/train-labels-idx1-ubyte.gz\n",
      "Successfully downloaded t10k-images-idx3-ubyte.gz 1648877 bytes.\n",
      "Extracting MNIST_data/t10k-images-idx3-ubyte.gz\n",
      "Successfully downloaded t10k-labels-idx1-ubyte.gz 4542 bytes.\n",
      "Extracting MNIST_data/t10k-labels-idx1-ubyte.gz\n"
     ]
    }
   ],
   "source": [
    "import numpy as np\n",
    "import tensorflow as tf\n",
    "from tensorflow.examples.tutorials.mnist import input_data\n",
    "\n",
    "mnist = input_data.read_data_sets(\"MNIST_data/\", one_hot = True)"
   ]
  },
  {
   "cell_type": "code",
   "execution_count": 5,
   "metadata": {},
   "outputs": [],
   "source": [
    "nb_class = 10\n",
    "\n",
    "# 24 * 24 image size 를 1개의 vector화\n",
    "X = tf.placeholder(tf.float32, shape = [None, 784])\n",
    "Y = tf.placeholder(tf.float32, shape = [None, nb_class])\n",
    "\n",
    "W = tf.Variable(tf.random_normal([784, nb_class]), name = \"weight\")\n",
    "b = tf.Variable(tf.random_normal([nb_class]), name = 'bias')\n",
    "\n",
    "Hypothesis = tf.nn.softmax(tf.matmul(X, W)+b)\n",
    "cost = tf.reduce_mean(-tf.reduce_sum(Y* tf.log(Hypothesis), axis = 1))\n",
    "optimizer = tf.train.GradientDescentOptimizer(learning_rate = 0.08).minimize(cost)"
   ]
  },
  {
   "cell_type": "code",
   "execution_count": 7,
   "metadata": {},
   "outputs": [],
   "source": [
    "is_correct = tf.equal(tf.argmax(Hypothesis, 1), tf.argmax(Y, 1))\n",
    "accuracy = tf.reduce_mean(tf.cast(is_correct, tf.float32))"
   ]
  },
  {
   "cell_type": "code",
   "execution_count": 15,
   "metadata": {},
   "outputs": [
    {
     "name": "stdout",
     "output_type": "stream",
     "text": [
      "Epoch: 0001 cost = 3.097279482\n",
      "Accuracy:  0.7309\n",
      "Epoch: 0002 cost = 1.190773677\n",
      "Accuracy:  0.7988\n",
      "Epoch: 0003 cost = 0.944288685\n",
      "Accuracy:  0.8238\n",
      "Epoch: 0004 cost = 0.825046406\n",
      "Accuracy:  0.8407\n",
      "Epoch: 0005 cost = 0.750865809\n",
      "Accuracy:  0.8501\n",
      "Epoch: 0006 cost = 0.699335214\n",
      "Accuracy:  0.8578\n",
      "Epoch: 0007 cost = 0.658455124\n",
      "Accuracy:  0.8632\n",
      "Epoch: 0008 cost = 0.627995955\n",
      "Accuracy:  0.8685\n",
      "Epoch: 0009 cost = 0.600191032\n",
      "Accuracy:  0.8719\n",
      "Epoch: 0010 cost = 0.579181262\n",
      "Accuracy:  0.8751\n",
      "Epoch: 0011 cost = 0.560008248\n",
      "Accuracy:  0.8776\n",
      "Epoch: 0012 cost = 0.542852672\n",
      "Accuracy:  0.879\n",
      "Epoch: 0013 cost = 0.528920339\n",
      "Accuracy:  0.8822\n",
      "Epoch: 0014 cost = 0.515100570\n",
      "Accuracy:  0.8836\n",
      "Epoch: 0015 cost = 0.504374203\n",
      "Accuracy:  0.8846\n"
     ]
    }
   ],
   "source": [
    "training_epochs = 15\n",
    "batch_size = 100\n",
    "\n",
    "with tf.Session() as sess :\n",
    "    sess.run(tf.global_variables_initializer())\n",
    "    \n",
    "    for epoch in range(training_epochs) :\n",
    "        avg_cost = 0\n",
    "        total_batch = int(mnist.train.num_examples / batch_size)\n",
    "        \n",
    "        for i in range(total_batch) :\n",
    "            batch_xs, batch_ys = mnist.train.next_batch(batch_size)\n",
    "            c, _ = sess.run([cost, optimizer], feed_dict = {X : batch_xs, Y : batch_ys})\n",
    "            avg_cost += c / total_batch\n",
    "        print('Epoch:', '%04d' % (epoch + 1),\n",
    "              'cost =', '{:.9f}'.format(avg_cost))\n",
    "        print(\"Accuracy: \", accuracy.eval(session=sess, feed_dict={\n",
    "          X: mnist.test.images, Y: mnist.test.labels}))"
   ]
  },
  {
   "cell_type": "code",
   "execution_count": null,
   "metadata": {
    "collapsed": true
   },
   "outputs": [],
   "source": []
  }
 ],
 "metadata": {
  "kernelspec": {
   "display_name": "Python 3",
   "language": "python",
   "name": "python3"
  },
  "language_info": {
   "codemirror_mode": {
    "name": "ipython",
    "version": 3
   },
   "file_extension": ".py",
   "mimetype": "text/x-python",
   "name": "python",
   "nbconvert_exporter": "python",
   "pygments_lexer": "ipython3",
   "version": "3.6.2"
  }
 },
 "nbformat": 4,
 "nbformat_minor": 2
}
