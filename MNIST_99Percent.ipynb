{
 "cells": [
  {
   "cell_type": "code",
   "execution_count": 1,
   "metadata": {},
   "outputs": [
    {
     "name": "stdout",
     "output_type": "stream",
     "text": [
      "Extracting MNIST_data/train-images-idx3-ubyte.gz\n",
      "Extracting MNIST_data/train-labels-idx1-ubyte.gz\n",
      "Extracting MNIST_data/t10k-images-idx3-ubyte.gz\n",
      "Extracting MNIST_data/t10k-labels-idx1-ubyte.gz\n"
     ]
    }
   ],
   "source": [
    "import tensorflow as tf\n",
    "import numpy as np\n",
    "import matplotlib.pyplot as plt\n",
    "from tensorflow.examples.tutorials.mnist import input_data\n",
    "\n",
    "tf.set_random_seed(777)\n",
    "\n",
    "learning_rate = 0.001\n",
    "training_epochs = 15\n",
    "batch_size = 100\n",
    "\n",
    "mnist = input_data.read_data_sets(\"MNIST_data/\", one_hot = True )"
   ]
  },
  {
   "cell_type": "code",
   "execution_count": 2,
   "metadata": {
    "collapsed": true
   },
   "outputs": [],
   "source": [
    "X = tf.placeholder(tf.float32, [None, 784])\n",
    "# x_image = (NumOfImage, 28 * 28 * 1)\n",
    "x_image = tf.reshape(X, [-1, 28, 28, 1])\n",
    "Y = tf.placeholder(tf.float32, [None, 10])"
   ]
  },
  {
   "cell_type": "code",
   "execution_count": 3,
   "metadata": {
    "collapsed": true
   },
   "outputs": [],
   "source": [
    "# Conv_layer1\n",
    "# input image = NumOfImage * ( 28 * 28 * 1)\n",
    "W1 = tf.Variable(tf.random_normal([3, 3, 1, 32], stddev = 0.01)) # size of filter\n",
    "# ( NumOfImage, 28 * 28 * 32) => filtering result (32 = 필터의 개수)\n",
    "L1 = tf.nn.conv2d(x_image, W1, strides =[1,1,1,1], padding = 'SAME')\n",
    "L1 = tf.nn.relu(L1)\n",
    "L1 = tf.nn.max_pool(L1, ksize = [1, 2, 2, 1],\n",
    "                   strides = [1, 2, 2, 1], padding = 'SAME')\n",
    "# NumOfImage, 14, 14 , 32 => pooling result "
   ]
  },
  {
   "cell_type": "code",
   "execution_count": 4,
   "metadata": {
    "collapsed": true
   },
   "outputs": [],
   "source": [
    "# Conv_Layer2\n",
    "# tf.random_normal([row, col, channel, num of filter]) => filter 정의\n",
    "# row, col은 필터의 크기, channel은 input data의 channel과 같아야함\n",
    "W2 = tf.Variable(tf.random_normal([3, 3, 32, 64]))\n",
    "# Conv result =  NumOfImage, 14 * 14 * 64\n",
    "L2 = tf.nn.conv2d(L1, W2, strides=[1, 1, 1, 1], padding ='SAME')\n",
    "L2 = tf.nn.relu(L2)\n",
    "L2 = tf.nn.max_pool(L2, ksize=[1,2,2,1], strides = [1, 2, 2, 1], padding = 'SAME')\n",
    "# Pooling result = NumOfImage, 7 * 7 * 64\n",
    "L2 = tf.reshape(L2, [-1, 7 * 7 * 64]) # NumOfImage, 평면으로\n",
    "# Fully Cennected 에 넣기 위해서 펼치는 작업\n"
   ]
  },
  {
   "cell_type": "code",
   "execution_count": 10,
   "metadata": {},
   "outputs": [],
   "source": [
    "# FC Layer\n",
    "\n",
    "W3 = tf.get_variable(\"W2\", shape=[7 * 7 * 64, 10],\n",
    "                    initializer=tf.contrib.layers.xavier_initializer())\n",
    "b = tf.Variable(tf.random_normal([10]))\n",
    "hypothesis = tf.matmul(L2, W3) + b\n",
    "\n",
    "cost = tf.reduce_mean(tf.nn.softmax_cross_entropy_with_logits(logits = hypothesis, labels = Y))\n",
    "optimizer = tf.train.AdamOptimizer(learning_rate = learning_rate).minimize(cost)"
   ]
  },
  {
   "cell_type": "code",
   "execution_count": 12,
   "metadata": {},
   "outputs": [
    {
     "name": "stdout",
     "output_type": "stream",
     "text": [
      "Epoch: 0001 cost = 0\n",
      "Epoch: 0002 cost = 0\n",
      "Epoch: 0003 cost = 0\n",
      "Epoch: 0004 cost = 0\n",
      "Epoch: 0005 cost = 0\n",
      "Epoch: 0006 cost = 0\n",
      "Epoch: 0007 cost = 0\n",
      "Epoch: 0008 cost = 0\n",
      "Epoch: 0009 cost = 0\n",
      "Epoch: 0010 cost = 0\n",
      "Epoch: 0011 cost = 0\n",
      "Epoch: 0012 cost = 0\n",
      "Epoch: 0013 cost = 0\n",
      "Epoch: 0014 cost = 0\n",
      "Epoch: 0015 cost = 0\n",
      "Learning Finished!\n"
     ]
    }
   ],
   "source": [
    "# Learning Model\n",
    "sess = tf.Session()\n",
    "sess.run(tf.global_variables_initializer())\n",
    "\n",
    "for epoch in range(training_epochs):\n",
    "    avg_cost = 0\n",
    "    total_batch = int(mnist.train.num_examples / batch_size)\n",
    "    \n",
    "    for i in range(total_batch):\n",
    "        batch_xs, batch_ys = mnist.train.next_batch(batch_size)\n",
    "        feed_dict = {X: batch_xs, Y : batch_ys}\n",
    "        c, _ = sess.run([cost, optimizer], feed_dict=feed_dict)\n",
    "        avg_cost += c / total_batch\n",
    "        \n",
    "    print('Epoch:', '%04d' % (epoch+1), 'cost =', '{:.3f}'.format(avg_cost))\n",
    "    \n",
    "print('Learning Finished!')"
   ]
  },
  {
   "cell_type": "code",
   "execution_count": 16,
   "metadata": {},
   "outputs": [
    {
     "name": "stdout",
     "output_type": "stream",
     "text": [
      "Accuracy: 0.9868\n",
      "Label:  [7]\n",
      "Prediction:  [7]\n"
     ]
    }
   ],
   "source": [
    "# Test Model\n",
    "prediction = tf.equal(tf.argmax(hypothesis, 1), tf.argmax(Y, 1))\n",
    "accuracy = tf.reduce_mean(tf.cast(prediction, tf.float32))\n",
    "print('Accuracy:', sess.run(accuracy, feed_dict={\n",
    "    X: mnist.test.images, Y: mnist.test.labels}))\n",
    "\n",
    "r = np.random.randint(0, mnist.test.num_examples -1)\n",
    "print(\"Label: \", sess.run(tf.argmax(mnist.test.labels[r:r + 1], 1)))\n",
    "print(\"Prediction: \", sess.run(\n",
    "    tf.argmax(hypothesis, 1), feed_dict={X: mnist.test.images[r:r + 1]}))"
   ]
  },
  {
   "cell_type": "code",
   "execution_count": null,
   "metadata": {
    "collapsed": true
   },
   "outputs": [],
   "source": []
  }
 ],
 "metadata": {
  "kernelspec": {
   "display_name": "Python 3",
   "language": "python",
   "name": "python3"
  },
  "language_info": {
   "codemirror_mode": {
    "name": "ipython",
    "version": 3
   },
   "file_extension": ".py",
   "mimetype": "text/x-python",
   "name": "python",
   "nbconvert_exporter": "python",
   "pygments_lexer": "ipython3",
   "version": "3.6.2"
  }
 },
 "nbformat": 4,
 "nbformat_minor": 2
}
