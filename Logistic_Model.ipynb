{
 "cells": [
  {
   "cell_type": "code",
   "execution_count": 19,
   "metadata": {},
   "outputs": [
    {
     "name": "stdout",
     "output_type": "stream",
     "text": [
      "0 4.82015\n",
      "10 1.91652\n",
      "20 1.1253\n",
      "30 0.8535\n",
      "40 0.678196\n",
      "50 0.564559\n",
      "60 0.485239\n",
      "70 0.427036\n",
      "80 0.383009\n",
      "90 0.348746\n",
      "100 0.321322\n",
      "110 0.298798\n",
      "120 0.279877\n",
      "130 0.263681\n",
      "140 0.249599\n",
      "150 0.237197\n",
      "160 0.22616\n",
      "170 0.21625\n",
      "180 0.207289\n",
      "190 0.199135\n",
      "200 0.191676\n",
      "\n",
      "Hypothesis:  [[  1.21935636e-01]\n",
      " [  2.61803810e-02]\n",
      " [  5.17769344e-03]\n",
      " [  1.95025947e-04]\n",
      " [  9.14195120e-01]\n",
      " [  4.10700619e-01]\n",
      " [  9.73277867e-01]\n",
      " [  6.98319316e-01]] \n",
      "Correct (Y):  0.190965 \n",
      "Accuracy:  0.875\n"
     ]
    }
   ],
   "source": [
    "import numpy as np\n",
    "import tensorflow as tf\n",
    "\n",
    "xy = np.loadtxt(\"dataset.csv\", delimiter = \" \", dtype = np.float32)\n",
    "x_data = xy[:,0:-1]\n",
    "y_data = xy[:, [-1]]\n",
    "\n",
    "X = tf.placeholder(tf.float32, shape = [None, 2])\n",
    "Y = tf.placeholder(tf.float32, shape = [None, 1])\n",
    "\n",
    "W = tf.Variable(tf.random_normal([2, 1]), name = \"weight\")\n",
    "b = tf.Variable(tf.random_normal([1]), name = \"bias\")\n",
    "\n",
    "hypothesis = tf.sigmoid(tf.matmul(X, W) + b)\n",
    "cost = -tf.reduce_mean(Y * tf.log(hypothesis) + (1 - Y) * tf.log(1 - hypothesis))\n",
    "train = tf.train.GradientDescentOptimizer(learning_rate = 0.05).minimize(cost)\n",
    "\n",
    "predicated = tf.cast( hypothesis > 0.5, dtype = tf.float32)\n",
    "accuracy = tf.reduce_mean(tf.cast(tf.equal(predicated, Y), dtype = tf.float32))\n",
    "\n",
    "init = tf.global_variables_initializer()\n",
    "sess = tf.Session()\n",
    "sess.run(init)\n",
    "\n",
    "for step in range(200+1):\n",
    "    cost_val, _ = sess.run([cost, train], feed_dict = {X : x_data, Y : y_data})\n",
    "    if step %10 == 0:\n",
    "        print(step, cost_val)\n",
    "        \n",
    "h, c, a = sess.run([hypothesis, cost, accuracy],\n",
    "                  feed_dict ={X: x_data, Y : y_data})\n",
    "print(\"\\nHypothesis: \", h, \"\\nCorrect (Y): \", c, \"\\nAccuracy: \", a)\n"
   ]
  },
  {
   "cell_type": "code",
   "execution_count": null,
   "metadata": {
    "collapsed": true
   },
   "outputs": [],
   "source": []
  },
  {
   "cell_type": "code",
   "execution_count": null,
   "metadata": {
    "collapsed": true
   },
   "outputs": [],
   "source": [
    "    "
   ]
  }
 ],
 "metadata": {
  "kernelspec": {
   "display_name": "Python 3",
   "language": "python",
   "name": "python3"
  },
  "language_info": {
   "codemirror_mode": {
    "name": "ipython",
    "version": 3
   },
   "file_extension": ".py",
   "mimetype": "text/x-python",
   "name": "python",
   "nbconvert_exporter": "python",
   "pygments_lexer": "ipython3",
   "version": "3.6.2"
  }
 },
 "nbformat": 4,
 "nbformat_minor": 2
}
